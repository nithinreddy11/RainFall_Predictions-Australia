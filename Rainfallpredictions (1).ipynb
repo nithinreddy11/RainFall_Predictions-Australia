{
  "nbformat": 4,
  "nbformat_minor": 5,
  "metadata": {
    "colab": {
      "name": "Rainfallpredictions",
      "provenance": [],
      "collapsed_sections": [],
      "machine_shape": "hm"
    },
    "kernelspec": {
      "display_name": "Python 3",
      "language": "python",
      "name": "python3"
    },
    "language_info": {
      "codemirror_mode": {
        "name": "ipython",
        "version": 3
      },
      "file_extension": ".py",
      "mimetype": "text/x-python",
      "name": "python",
      "nbconvert_exporter": "python",
      "pygments_lexer": "ipython3",
      "version": "3.7.3"
    },
    "accelerator": "GPU"
  },
  "cells": [
    {
      "cell_type": "code",
      "metadata": {
        "id": "58uW8ZoM29hT"
      },
      "source": [
        "import pandas as pd\n",
        "import numpy as np\n",
        "import matplotlib.pyplot as plt\n",
        "import seaborn as sns\n",
        "from sklearn.experimental import enable_iterative_imputer\n",
        "from sklearn.impute import IterativeImputer\n",
        "from imblearn.over_sampling import SMOTE\n",
        "from sklearn.model_selection import train_test_split, GridSearchCV\n",
        "from xgboost import XGBClassifier\n",
        "from sklearn.metrics import plot_confusion_matrix, plot_roc_curve, classification_report, accuracy_score\n",
        "from hyperopt import STATUS_OK, Trials, fmin, hp, tpe\n",
        "import xgboost as xgb\n",
        "import joblib\n",
        "\n",
        "import warnings\n",
        "warnings.filterwarnings('ignore')\n",
        "\n",
        "sns.set_style(\"darkgrid\")\n",
        "%matplotlib inline"
      ],
      "id": "58uW8ZoM29hT",
      "execution_count": 62,
      "outputs": []
    },
    {
      "cell_type": "code",
      "metadata": {
        "id": "DB6uyhSx29hV",
        "colab": {
          "base_uri": "https://localhost:8080/",
          "height": 313
        },
        "outputId": "2e134342-b7df-4b3f-abe5-f7608c892b72"
      },
      "source": [
        "rainfall = pd.read_csv(\"/content/weatherAUS.csv\")\n",
        "df_rainfall = pd.DataFrame(rainfall)\n",
        "df_rainfall.head(5)"
      ],
      "id": "DB6uyhSx29hV",
      "execution_count": 4,
      "outputs": [
        {
          "output_type": "execute_result",
          "data": {
            "text/html": [
              "<div>\n",
              "<style scoped>\n",
              "    .dataframe tbody tr th:only-of-type {\n",
              "        vertical-align: middle;\n",
              "    }\n",
              "\n",
              "    .dataframe tbody tr th {\n",
              "        vertical-align: top;\n",
              "    }\n",
              "\n",
              "    .dataframe thead th {\n",
              "        text-align: right;\n",
              "    }\n",
              "</style>\n",
              "<table border=\"1\" class=\"dataframe\">\n",
              "  <thead>\n",
              "    <tr style=\"text-align: right;\">\n",
              "      <th></th>\n",
              "      <th>Date</th>\n",
              "      <th>Location</th>\n",
              "      <th>MinTemp</th>\n",
              "      <th>MaxTemp</th>\n",
              "      <th>Rainfall</th>\n",
              "      <th>Evaporation</th>\n",
              "      <th>Sunshine</th>\n",
              "      <th>WindGustDir</th>\n",
              "      <th>WindGustSpeed</th>\n",
              "      <th>WindDir9am</th>\n",
              "      <th>WindDir3pm</th>\n",
              "      <th>WindSpeed9am</th>\n",
              "      <th>WindSpeed3pm</th>\n",
              "      <th>Humidity9am</th>\n",
              "      <th>Humidity3pm</th>\n",
              "      <th>Pressure9am</th>\n",
              "      <th>Pressure3pm</th>\n",
              "      <th>Cloud9am</th>\n",
              "      <th>Cloud3pm</th>\n",
              "      <th>Temp9am</th>\n",
              "      <th>Temp3pm</th>\n",
              "      <th>RainToday</th>\n",
              "      <th>RainTomorrow</th>\n",
              "    </tr>\n",
              "  </thead>\n",
              "  <tbody>\n",
              "    <tr>\n",
              "      <th>0</th>\n",
              "      <td>2008-12-01</td>\n",
              "      <td>Albury</td>\n",
              "      <td>13.4</td>\n",
              "      <td>22.9</td>\n",
              "      <td>0.6</td>\n",
              "      <td>NaN</td>\n",
              "      <td>NaN</td>\n",
              "      <td>W</td>\n",
              "      <td>44.0</td>\n",
              "      <td>W</td>\n",
              "      <td>WNW</td>\n",
              "      <td>20.0</td>\n",
              "      <td>24.0</td>\n",
              "      <td>71.0</td>\n",
              "      <td>22.0</td>\n",
              "      <td>1007.7</td>\n",
              "      <td>1007.1</td>\n",
              "      <td>8.0</td>\n",
              "      <td>NaN</td>\n",
              "      <td>16.9</td>\n",
              "      <td>21.8</td>\n",
              "      <td>No</td>\n",
              "      <td>No</td>\n",
              "    </tr>\n",
              "    <tr>\n",
              "      <th>1</th>\n",
              "      <td>2008-12-02</td>\n",
              "      <td>Albury</td>\n",
              "      <td>7.4</td>\n",
              "      <td>25.1</td>\n",
              "      <td>0.0</td>\n",
              "      <td>NaN</td>\n",
              "      <td>NaN</td>\n",
              "      <td>WNW</td>\n",
              "      <td>44.0</td>\n",
              "      <td>NNW</td>\n",
              "      <td>WSW</td>\n",
              "      <td>4.0</td>\n",
              "      <td>22.0</td>\n",
              "      <td>44.0</td>\n",
              "      <td>25.0</td>\n",
              "      <td>1010.6</td>\n",
              "      <td>1007.8</td>\n",
              "      <td>NaN</td>\n",
              "      <td>NaN</td>\n",
              "      <td>17.2</td>\n",
              "      <td>24.3</td>\n",
              "      <td>No</td>\n",
              "      <td>No</td>\n",
              "    </tr>\n",
              "    <tr>\n",
              "      <th>2</th>\n",
              "      <td>2008-12-03</td>\n",
              "      <td>Albury</td>\n",
              "      <td>12.9</td>\n",
              "      <td>25.7</td>\n",
              "      <td>0.0</td>\n",
              "      <td>NaN</td>\n",
              "      <td>NaN</td>\n",
              "      <td>WSW</td>\n",
              "      <td>46.0</td>\n",
              "      <td>W</td>\n",
              "      <td>WSW</td>\n",
              "      <td>19.0</td>\n",
              "      <td>26.0</td>\n",
              "      <td>38.0</td>\n",
              "      <td>30.0</td>\n",
              "      <td>1007.6</td>\n",
              "      <td>1008.7</td>\n",
              "      <td>NaN</td>\n",
              "      <td>2.0</td>\n",
              "      <td>21.0</td>\n",
              "      <td>23.2</td>\n",
              "      <td>No</td>\n",
              "      <td>No</td>\n",
              "    </tr>\n",
              "    <tr>\n",
              "      <th>3</th>\n",
              "      <td>2008-12-04</td>\n",
              "      <td>Albury</td>\n",
              "      <td>9.2</td>\n",
              "      <td>28.0</td>\n",
              "      <td>0.0</td>\n",
              "      <td>NaN</td>\n",
              "      <td>NaN</td>\n",
              "      <td>NE</td>\n",
              "      <td>24.0</td>\n",
              "      <td>SE</td>\n",
              "      <td>E</td>\n",
              "      <td>11.0</td>\n",
              "      <td>9.0</td>\n",
              "      <td>45.0</td>\n",
              "      <td>16.0</td>\n",
              "      <td>1017.6</td>\n",
              "      <td>1012.8</td>\n",
              "      <td>NaN</td>\n",
              "      <td>NaN</td>\n",
              "      <td>18.1</td>\n",
              "      <td>26.5</td>\n",
              "      <td>No</td>\n",
              "      <td>No</td>\n",
              "    </tr>\n",
              "    <tr>\n",
              "      <th>4</th>\n",
              "      <td>2008-12-05</td>\n",
              "      <td>Albury</td>\n",
              "      <td>17.5</td>\n",
              "      <td>32.3</td>\n",
              "      <td>1.0</td>\n",
              "      <td>NaN</td>\n",
              "      <td>NaN</td>\n",
              "      <td>W</td>\n",
              "      <td>41.0</td>\n",
              "      <td>ENE</td>\n",
              "      <td>NW</td>\n",
              "      <td>7.0</td>\n",
              "      <td>20.0</td>\n",
              "      <td>82.0</td>\n",
              "      <td>33.0</td>\n",
              "      <td>1010.8</td>\n",
              "      <td>1006.0</td>\n",
              "      <td>7.0</td>\n",
              "      <td>8.0</td>\n",
              "      <td>17.8</td>\n",
              "      <td>29.7</td>\n",
              "      <td>No</td>\n",
              "      <td>No</td>\n",
              "    </tr>\n",
              "  </tbody>\n",
              "</table>\n",
              "</div>"
            ],
            "text/plain": [
              "         Date Location  MinTemp  ...  Temp3pm  RainToday  RainTomorrow\n",
              "0  2008-12-01   Albury     13.4  ...     21.8         No            No\n",
              "1  2008-12-02   Albury      7.4  ...     24.3         No            No\n",
              "2  2008-12-03   Albury     12.9  ...     23.2         No            No\n",
              "3  2008-12-04   Albury      9.2  ...     26.5         No            No\n",
              "4  2008-12-05   Albury     17.5  ...     29.7         No            No\n",
              "\n",
              "[5 rows x 23 columns]"
            ]
          },
          "metadata": {
            "tags": []
          },
          "execution_count": 4
        }
      ]
    },
    {
      "cell_type": "code",
      "metadata": {
        "id": "cc-dJjsF29hW",
        "colab": {
          "base_uri": "https://localhost:8080/"
        },
        "outputId": "b321a06d-5b69-4700-ee0a-f59b4d46f927"
      },
      "source": [
        "df_rainfall.shape"
      ],
      "id": "cc-dJjsF29hW",
      "execution_count": 5,
      "outputs": [
        {
          "output_type": "execute_result",
          "data": {
            "text/plain": [
              "(145460, 23)"
            ]
          },
          "metadata": {
            "tags": []
          },
          "execution_count": 5
        }
      ]
    },
    {
      "cell_type": "code",
      "metadata": {
        "id": "cxrXfxbS29hX",
        "colab": {
          "base_uri": "https://localhost:8080/"
        },
        "outputId": "0a2e6b9d-496d-44b2-c185-2d37f22e53d4"
      },
      "source": [
        "df_rainfall.info()"
      ],
      "id": "cxrXfxbS29hX",
      "execution_count": 6,
      "outputs": [
        {
          "output_type": "stream",
          "text": [
            "<class 'pandas.core.frame.DataFrame'>\n",
            "RangeIndex: 145460 entries, 0 to 145459\n",
            "Data columns (total 23 columns):\n",
            " #   Column         Non-Null Count   Dtype  \n",
            "---  ------         --------------   -----  \n",
            " 0   Date           145460 non-null  object \n",
            " 1   Location       145460 non-null  object \n",
            " 2   MinTemp        143975 non-null  float64\n",
            " 3   MaxTemp        144199 non-null  float64\n",
            " 4   Rainfall       142199 non-null  float64\n",
            " 5   Evaporation    82670 non-null   float64\n",
            " 6   Sunshine       75625 non-null   float64\n",
            " 7   WindGustDir    135134 non-null  object \n",
            " 8   WindGustSpeed  135197 non-null  float64\n",
            " 9   WindDir9am     134894 non-null  object \n",
            " 10  WindDir3pm     141232 non-null  object \n",
            " 11  WindSpeed9am   143693 non-null  float64\n",
            " 12  WindSpeed3pm   142398 non-null  float64\n",
            " 13  Humidity9am    142806 non-null  float64\n",
            " 14  Humidity3pm    140953 non-null  float64\n",
            " 15  Pressure9am    130395 non-null  float64\n",
            " 16  Pressure3pm    130432 non-null  float64\n",
            " 17  Cloud9am       89572 non-null   float64\n",
            " 18  Cloud3pm       86102 non-null   float64\n",
            " 19  Temp9am        143693 non-null  float64\n",
            " 20  Temp3pm        141851 non-null  float64\n",
            " 21  RainToday      142199 non-null  object \n",
            " 22  RainTomorrow   142193 non-null  object \n",
            "dtypes: float64(16), object(7)\n",
            "memory usage: 25.5+ MB\n"
          ],
          "name": "stdout"
        }
      ]
    },
    {
      "cell_type": "code",
      "metadata": {
        "id": "lzYMLgVs29hY",
        "colab": {
          "base_uri": "https://localhost:8080/"
        },
        "outputId": "978ff5c4-c518-4877-bfd3-6b32735349a6"
      },
      "source": [
        "(df_rainfall.isna().sum()/df_rainfall.shape[0]) * 100"
      ],
      "id": "lzYMLgVs29hY",
      "execution_count": 7,
      "outputs": [
        {
          "output_type": "execute_result",
          "data": {
            "text/plain": [
              "Date              0.000000\n",
              "Location          0.000000\n",
              "MinTemp           1.020899\n",
              "MaxTemp           0.866905\n",
              "Rainfall          2.241853\n",
              "Evaporation      43.166506\n",
              "Sunshine         48.009762\n",
              "WindGustDir       7.098859\n",
              "WindGustSpeed     7.055548\n",
              "WindDir9am        7.263853\n",
              "WindDir3pm        2.906641\n",
              "WindSpeed9am      1.214767\n",
              "WindSpeed3pm      2.105046\n",
              "Humidity9am       1.824557\n",
              "Humidity3pm       3.098446\n",
              "Pressure9am      10.356799\n",
              "Pressure3pm      10.331363\n",
              "Cloud9am         38.421559\n",
              "Cloud3pm         40.807095\n",
              "Temp9am           1.214767\n",
              "Temp3pm           2.481094\n",
              "RainToday         2.241853\n",
              "RainTomorrow      2.245978\n",
              "dtype: float64"
            ]
          },
          "metadata": {
            "tags": []
          },
          "execution_count": 7
        }
      ]
    },
    {
      "cell_type": "code",
      "metadata": {
        "id": "b_KEq8PB29hZ",
        "colab": {
          "base_uri": "https://localhost:8080/",
          "height": 320
        },
        "outputId": "daaf13d0-8940-4acc-8016-79b566a270bf"
      },
      "source": [
        "df_rainfall.describe()"
      ],
      "id": "b_KEq8PB29hZ",
      "execution_count": 8,
      "outputs": [
        {
          "output_type": "execute_result",
          "data": {
            "text/html": [
              "<div>\n",
              "<style scoped>\n",
              "    .dataframe tbody tr th:only-of-type {\n",
              "        vertical-align: middle;\n",
              "    }\n",
              "\n",
              "    .dataframe tbody tr th {\n",
              "        vertical-align: top;\n",
              "    }\n",
              "\n",
              "    .dataframe thead th {\n",
              "        text-align: right;\n",
              "    }\n",
              "</style>\n",
              "<table border=\"1\" class=\"dataframe\">\n",
              "  <thead>\n",
              "    <tr style=\"text-align: right;\">\n",
              "      <th></th>\n",
              "      <th>MinTemp</th>\n",
              "      <th>MaxTemp</th>\n",
              "      <th>Rainfall</th>\n",
              "      <th>Evaporation</th>\n",
              "      <th>Sunshine</th>\n",
              "      <th>WindGustSpeed</th>\n",
              "      <th>WindSpeed9am</th>\n",
              "      <th>WindSpeed3pm</th>\n",
              "      <th>Humidity9am</th>\n",
              "      <th>Humidity3pm</th>\n",
              "      <th>Pressure9am</th>\n",
              "      <th>Pressure3pm</th>\n",
              "      <th>Cloud9am</th>\n",
              "      <th>Cloud3pm</th>\n",
              "      <th>Temp9am</th>\n",
              "      <th>Temp3pm</th>\n",
              "    </tr>\n",
              "  </thead>\n",
              "  <tbody>\n",
              "    <tr>\n",
              "      <th>count</th>\n",
              "      <td>143975.000000</td>\n",
              "      <td>144199.000000</td>\n",
              "      <td>142199.000000</td>\n",
              "      <td>82670.000000</td>\n",
              "      <td>75625.000000</td>\n",
              "      <td>135197.000000</td>\n",
              "      <td>143693.000000</td>\n",
              "      <td>142398.000000</td>\n",
              "      <td>142806.000000</td>\n",
              "      <td>140953.000000</td>\n",
              "      <td>130395.00000</td>\n",
              "      <td>130432.000000</td>\n",
              "      <td>89572.000000</td>\n",
              "      <td>86102.000000</td>\n",
              "      <td>143693.000000</td>\n",
              "      <td>141851.00000</td>\n",
              "    </tr>\n",
              "    <tr>\n",
              "      <th>mean</th>\n",
              "      <td>12.194034</td>\n",
              "      <td>23.221348</td>\n",
              "      <td>2.360918</td>\n",
              "      <td>5.468232</td>\n",
              "      <td>7.611178</td>\n",
              "      <td>40.035230</td>\n",
              "      <td>14.043426</td>\n",
              "      <td>18.662657</td>\n",
              "      <td>68.880831</td>\n",
              "      <td>51.539116</td>\n",
              "      <td>1017.64994</td>\n",
              "      <td>1015.255889</td>\n",
              "      <td>4.447461</td>\n",
              "      <td>4.509930</td>\n",
              "      <td>16.990631</td>\n",
              "      <td>21.68339</td>\n",
              "    </tr>\n",
              "    <tr>\n",
              "      <th>std</th>\n",
              "      <td>6.398495</td>\n",
              "      <td>7.119049</td>\n",
              "      <td>8.478060</td>\n",
              "      <td>4.193704</td>\n",
              "      <td>3.785483</td>\n",
              "      <td>13.607062</td>\n",
              "      <td>8.915375</td>\n",
              "      <td>8.809800</td>\n",
              "      <td>19.029164</td>\n",
              "      <td>20.795902</td>\n",
              "      <td>7.10653</td>\n",
              "      <td>7.037414</td>\n",
              "      <td>2.887159</td>\n",
              "      <td>2.720357</td>\n",
              "      <td>6.488753</td>\n",
              "      <td>6.93665</td>\n",
              "    </tr>\n",
              "    <tr>\n",
              "      <th>min</th>\n",
              "      <td>-8.500000</td>\n",
              "      <td>-4.800000</td>\n",
              "      <td>0.000000</td>\n",
              "      <td>0.000000</td>\n",
              "      <td>0.000000</td>\n",
              "      <td>6.000000</td>\n",
              "      <td>0.000000</td>\n",
              "      <td>0.000000</td>\n",
              "      <td>0.000000</td>\n",
              "      <td>0.000000</td>\n",
              "      <td>980.50000</td>\n",
              "      <td>977.100000</td>\n",
              "      <td>0.000000</td>\n",
              "      <td>0.000000</td>\n",
              "      <td>-7.200000</td>\n",
              "      <td>-5.40000</td>\n",
              "    </tr>\n",
              "    <tr>\n",
              "      <th>25%</th>\n",
              "      <td>7.600000</td>\n",
              "      <td>17.900000</td>\n",
              "      <td>0.000000</td>\n",
              "      <td>2.600000</td>\n",
              "      <td>4.800000</td>\n",
              "      <td>31.000000</td>\n",
              "      <td>7.000000</td>\n",
              "      <td>13.000000</td>\n",
              "      <td>57.000000</td>\n",
              "      <td>37.000000</td>\n",
              "      <td>1012.90000</td>\n",
              "      <td>1010.400000</td>\n",
              "      <td>1.000000</td>\n",
              "      <td>2.000000</td>\n",
              "      <td>12.300000</td>\n",
              "      <td>16.60000</td>\n",
              "    </tr>\n",
              "    <tr>\n",
              "      <th>50%</th>\n",
              "      <td>12.000000</td>\n",
              "      <td>22.600000</td>\n",
              "      <td>0.000000</td>\n",
              "      <td>4.800000</td>\n",
              "      <td>8.400000</td>\n",
              "      <td>39.000000</td>\n",
              "      <td>13.000000</td>\n",
              "      <td>19.000000</td>\n",
              "      <td>70.000000</td>\n",
              "      <td>52.000000</td>\n",
              "      <td>1017.60000</td>\n",
              "      <td>1015.200000</td>\n",
              "      <td>5.000000</td>\n",
              "      <td>5.000000</td>\n",
              "      <td>16.700000</td>\n",
              "      <td>21.10000</td>\n",
              "    </tr>\n",
              "    <tr>\n",
              "      <th>75%</th>\n",
              "      <td>16.900000</td>\n",
              "      <td>28.200000</td>\n",
              "      <td>0.800000</td>\n",
              "      <td>7.400000</td>\n",
              "      <td>10.600000</td>\n",
              "      <td>48.000000</td>\n",
              "      <td>19.000000</td>\n",
              "      <td>24.000000</td>\n",
              "      <td>83.000000</td>\n",
              "      <td>66.000000</td>\n",
              "      <td>1022.40000</td>\n",
              "      <td>1020.000000</td>\n",
              "      <td>7.000000</td>\n",
              "      <td>7.000000</td>\n",
              "      <td>21.600000</td>\n",
              "      <td>26.40000</td>\n",
              "    </tr>\n",
              "    <tr>\n",
              "      <th>max</th>\n",
              "      <td>33.900000</td>\n",
              "      <td>48.100000</td>\n",
              "      <td>371.000000</td>\n",
              "      <td>145.000000</td>\n",
              "      <td>14.500000</td>\n",
              "      <td>135.000000</td>\n",
              "      <td>130.000000</td>\n",
              "      <td>87.000000</td>\n",
              "      <td>100.000000</td>\n",
              "      <td>100.000000</td>\n",
              "      <td>1041.00000</td>\n",
              "      <td>1039.600000</td>\n",
              "      <td>9.000000</td>\n",
              "      <td>9.000000</td>\n",
              "      <td>40.200000</td>\n",
              "      <td>46.70000</td>\n",
              "    </tr>\n",
              "  </tbody>\n",
              "</table>\n",
              "</div>"
            ],
            "text/plain": [
              "             MinTemp        MaxTemp  ...        Temp9am       Temp3pm\n",
              "count  143975.000000  144199.000000  ...  143693.000000  141851.00000\n",
              "mean       12.194034      23.221348  ...      16.990631      21.68339\n",
              "std         6.398495       7.119049  ...       6.488753       6.93665\n",
              "min        -8.500000      -4.800000  ...      -7.200000      -5.40000\n",
              "25%         7.600000      17.900000  ...      12.300000      16.60000\n",
              "50%        12.000000      22.600000  ...      16.700000      21.10000\n",
              "75%        16.900000      28.200000  ...      21.600000      26.40000\n",
              "max        33.900000      48.100000  ...      40.200000      46.70000\n",
              "\n",
              "[8 rows x 16 columns]"
            ]
          },
          "metadata": {
            "tags": []
          },
          "execution_count": 8
        }
      ]
    },
    {
      "cell_type": "code",
      "metadata": {
        "id": "4oAjGsX929ha",
        "colab": {
          "base_uri": "https://localhost:8080/"
        },
        "outputId": "94e49e13-a2b3-4315-821d-f020977a1cd7"
      },
      "source": [
        "df_rainfall.Date.value_counts().head(10)"
      ],
      "id": "4oAjGsX929ha",
      "execution_count": 9,
      "outputs": [
        {
          "output_type": "execute_result",
          "data": {
            "text/plain": [
              "2016-04-26    49\n",
              "2015-04-25    49\n",
              "2015-07-26    49\n",
              "2013-10-06    49\n",
              "2016-06-20    49\n",
              "2015-08-02    49\n",
              "2013-08-19    49\n",
              "2014-07-13    49\n",
              "2015-11-17    49\n",
              "2016-11-20    49\n",
              "Name: Date, dtype: int64"
            ]
          },
          "metadata": {
            "tags": []
          },
          "execution_count": 9
        }
      ]
    },
    {
      "cell_type": "code",
      "metadata": {
        "id": "6iVCzXt729ha"
      },
      "source": [
        "df_rainfall['RainToday'] = df_rainfall['RainToday'].map({'No':0, 'Yes':1})\n",
        "df_rainfall['RainTomorrow'] = df_rainfall['RainTomorrow'].map({'No':0, 'Yes':1})"
      ],
      "id": "6iVCzXt729ha",
      "execution_count": 10,
      "outputs": []
    },
    {
      "cell_type": "code",
      "metadata": {
        "id": "kYY8ohbp29ha",
        "colab": {
          "base_uri": "https://localhost:8080/"
        },
        "outputId": "9539a46d-5c2b-4acb-af15-edfcfcbb6140"
      },
      "source": [
        "df_rainfall.RainToday.value_counts(normalize=True)"
      ],
      "id": "kYY8ohbp29ha",
      "execution_count": 11,
      "outputs": [
        {
          "output_type": "execute_result",
          "data": {
            "text/plain": [
              "0.0    0.775807\n",
              "1.0    0.224193\n",
              "Name: RainToday, dtype: float64"
            ]
          },
          "metadata": {
            "tags": []
          },
          "execution_count": 11
        }
      ]
    },
    {
      "cell_type": "code",
      "metadata": {
        "id": "EiaLilme29hb",
        "colab": {
          "base_uri": "https://localhost:8080/"
        },
        "outputId": "82b37d05-d4e3-4afe-8665-1ac3635902a3"
      },
      "source": [
        "df_rainfall.RainTomorrow.value_counts(normalize=True)"
      ],
      "id": "EiaLilme29hb",
      "execution_count": 12,
      "outputs": [
        {
          "output_type": "execute_result",
          "data": {
            "text/plain": [
              "0.0    0.775819\n",
              "1.0    0.224181\n",
              "Name: RainTomorrow, dtype: float64"
            ]
          },
          "metadata": {
            "tags": []
          },
          "execution_count": 12
        }
      ]
    },
    {
      "cell_type": "code",
      "metadata": {
        "id": "xJT686Se29hb",
        "scrolled": true,
        "colab": {
          "base_uri": "https://localhost:8080/",
          "height": 1000
        },
        "outputId": "1bd693e8-5110-4396-fc2d-a3ab80150b9b"
      },
      "source": [
        "fig, axes = plt.subplots(nrows=6, ncols=3, figsize=(15,15))\n",
        "axes = axes.reshape(-1)\n",
        "continous = [col for col in df_rainfall.columns if df_rainfall[col].dtype!= object]\n",
        "\n",
        "for i, n in enumerate(continous):\n",
        "    sns.histplot(data = df_rainfall, x = n, ax=axes[i], kde=True)\n",
        "fig.tight_layout(pad=2.0)\n",
        "plt.title(\"Histogram for columns\")\n",
        "plt.show()"
      ],
      "id": "xJT686Se29hb",
      "execution_count": 13,
      "outputs": [
        {
          "output_type": "display_data",
          "data": {
            "image/png": "[encoded data removed]",
            "text/plain": [
              "<Figure size 1080x1080 with 18 Axes>"
            ]
          },
          "metadata": {
            "tags": [],
            "needs_background": "light"
          }
        }
      ]
    },
    {
      "cell_type": "code",
      "metadata": {
        "colab": {
          "base_uri": "https://localhost:8080/",
          "height": 296
        },
        "id": "yYxfY4j629hc",
        "outputId": "6d0d53b3-7c4e-4a3d-8921-ab8b7f39b7cc"
      },
      "source": [
        "sns.histplot(df_rainfall['Rainfall'])\n",
        "plt.xlim(0,1)"
      ],
      "id": "yYxfY4j629hc",
      "execution_count": 14,
      "outputs": [
        {
          "output_type": "execute_result",
          "data": {
            "text/plain": [
              "(0.0, 1.0)"
            ]
          },
          "metadata": {
            "tags": []
          },
          "execution_count": 14
        },
        {
          "output_type": "display_data",
          "data": {
            "image/png": "[encoded data removed]",
            "text/plain": [
              "<Figure size 432x288 with 1 Axes>"
            ]
          },
          "metadata": {
            "tags": [],
            "needs_background": "light"
          }
        }
      ]
    },
    {
      "cell_type": "code",
      "metadata": {
        "id": "wLiq8yrL29hc"
      },
      "source": [
        "df_rainby_loc = df_rainfall.groupby('Location')[['RainToday']].sum()"
      ],
      "id": "wLiq8yrL29hc",
      "execution_count": 15,
      "outputs": []
    },
    {
      "cell_type": "code",
      "metadata": {
        "colab": {
          "base_uri": "https://localhost:8080/",
          "height": 893
        },
        "id": "7y-neK5329hd",
        "outputId": "7123bcb2-d0f5-4aa8-e9d0-c1fa9603ecfe"
      },
      "source": [
        "plt.figure(figsize=(10,15))\n",
        "sns.barplot(x = 'RainToday', y =df_rainby_loc.index, data = df_rainby_loc.sort_values('RainToday',\n",
        "                                                                           ascending = False))\n",
        "plt.title(\"Barplot for count for rainy days for location\")\n",
        "plt.show()"
      ],
      "id": "7y-neK5329hd",
      "execution_count": 16,
      "outputs": [
        {
          "output_type": "display_data",
          "data": {
            "image/png": "[encoded data removed]",
            "text/plain": [
              "<Figure size 720x1080 with 1 Axes>"
            ]
          },
          "metadata": {
            "tags": [],
            "needs_background": "light"
          }
        }
      ]
    },
    {
      "cell_type": "code",
      "metadata": {
        "colab": {
          "base_uri": "https://localhost:8080/"
        },
        "id": "B-3JaCWf29hd",
        "outputId": "d4ff44f8-c300-45a3-fb6c-711bca8670c1"
      },
      "source": [
        "df_rainfall.Location.value_counts()"
      ],
      "id": "B-3JaCWf29hd",
      "execution_count": 17,
      "outputs": [
        {
          "output_type": "execute_result",
          "data": {
            "text/plain": [
              "Canberra            3436\n",
              "Sydney              3344\n",
              "Melbourne           3193\n",
              "Brisbane            3193\n",
              "Darwin              3193\n",
              "Hobart              3193\n",
              "Perth               3193\n",
              "Adelaide            3193\n",
              "Bendigo             3040\n",
              "MountGambier        3040\n",
              "Cairns              3040\n",
              "Ballarat            3040\n",
              "MountGinini         3040\n",
              "Albury              3040\n",
              "Launceston          3040\n",
              "Townsville          3040\n",
              "AliceSprings        3040\n",
              "GoldCoast           3040\n",
              "Albany              3040\n",
              "Wollongong          3040\n",
              "Tuggeranong         3039\n",
              "Newcastle           3039\n",
              "Penrith             3039\n",
              "Williamtown         3009\n",
              "MelbourneAirport    3009\n",
              "NorfolkIsland       3009\n",
              "BadgerysCreek       3009\n",
              "Portland            3009\n",
              "Dartmoor            3009\n",
              "Mildura             3009\n",
              "SydneyAirport       3009\n",
              "Nuriootpa           3009\n",
              "Moree               3009\n",
              "Sale                3009\n",
              "Cobar               3009\n",
              "Richmond            3009\n",
              "Witchcliffe         3009\n",
              "CoffsHarbour        3009\n",
              "WaggaWagga          3009\n",
              "Woomera             3009\n",
              "Watsonia            3009\n",
              "PearceRAAF          3009\n",
              "PerthAirport        3009\n",
              "Walpole             3006\n",
              "NorahHead           3004\n",
              "SalmonGums          3001\n",
              "Uluru               1578\n",
              "Katherine           1578\n",
              "Nhil                1578\n",
              "Name: Location, dtype: int64"
            ]
          },
          "metadata": {
            "tags": []
          },
          "execution_count": 17
        }
      ]
    },
    {
      "cell_type": "code",
      "metadata": {
        "id": "tBXgcuJh29hd"
      },
      "source": [
        "df_rainfall['Month'] = df_rainfall.Date.apply(lambda x : int(x[5:7]))"
      ],
      "id": "tBXgcuJh29hd",
      "execution_count": 18,
      "outputs": []
    },
    {
      "cell_type": "code",
      "metadata": {
        "colab": {
          "base_uri": "https://localhost:8080/",
          "height": 457
        },
        "id": "ubA4RNo329he",
        "outputId": "32f18f1b-e934-4707-9d7a-902ef83e2318"
      },
      "source": [
        "df_monthly_rainfall = df_rainfall.groupby('Month')[['RainToday']].mean()\n",
        "df_monthly_rainfall"
      ],
      "id": "ubA4RNo329he",
      "execution_count": 19,
      "outputs": [
        {
          "output_type": "execute_result",
          "data": {
            "text/html": [
              "<div>\n",
              "<style scoped>\n",
              "    .dataframe tbody tr th:only-of-type {\n",
              "        vertical-align: middle;\n",
              "    }\n",
              "\n",
              "    .dataframe tbody tr th {\n",
              "        vertical-align: top;\n",
              "    }\n",
              "\n",
              "    .dataframe thead th {\n",
              "        text-align: right;\n",
              "    }\n",
              "</style>\n",
              "<table border=\"1\" class=\"dataframe\">\n",
              "  <thead>\n",
              "    <tr style=\"text-align: right;\">\n",
              "      <th></th>\n",
              "      <th>RainToday</th>\n",
              "    </tr>\n",
              "    <tr>\n",
              "      <th>Month</th>\n",
              "      <th></th>\n",
              "    </tr>\n",
              "  </thead>\n",
              "  <tbody>\n",
              "    <tr>\n",
              "      <th>1</th>\n",
              "      <td>0.189484</td>\n",
              "    </tr>\n",
              "    <tr>\n",
              "      <th>2</th>\n",
              "      <td>0.206746</td>\n",
              "    </tr>\n",
              "    <tr>\n",
              "      <th>3</th>\n",
              "      <td>0.217135</td>\n",
              "    </tr>\n",
              "    <tr>\n",
              "      <th>4</th>\n",
              "      <td>0.216845</td>\n",
              "    </tr>\n",
              "    <tr>\n",
              "      <th>5</th>\n",
              "      <td>0.222163</td>\n",
              "    </tr>\n",
              "    <tr>\n",
              "      <th>6</th>\n",
              "      <td>0.263638</td>\n",
              "    </tr>\n",
              "    <tr>\n",
              "      <th>7</th>\n",
              "      <td>0.270736</td>\n",
              "    </tr>\n",
              "    <tr>\n",
              "      <th>8</th>\n",
              "      <td>0.253167</td>\n",
              "    </tr>\n",
              "    <tr>\n",
              "      <th>9</th>\n",
              "      <td>0.229135</td>\n",
              "    </tr>\n",
              "    <tr>\n",
              "      <th>10</th>\n",
              "      <td>0.196512</td>\n",
              "    </tr>\n",
              "    <tr>\n",
              "      <th>11</th>\n",
              "      <td>0.210843</td>\n",
              "    </tr>\n",
              "    <tr>\n",
              "      <th>12</th>\n",
              "      <td>0.213037</td>\n",
              "    </tr>\n",
              "  </tbody>\n",
              "</table>\n",
              "</div>"
            ],
            "text/plain": [
              "       RainToday\n",
              "Month           \n",
              "1       0.189484\n",
              "2       0.206746\n",
              "3       0.217135\n",
              "4       0.216845\n",
              "5       0.222163\n",
              "6       0.263638\n",
              "7       0.270736\n",
              "8       0.253167\n",
              "9       0.229135\n",
              "10      0.196512\n",
              "11      0.210843\n",
              "12      0.213037"
            ]
          },
          "metadata": {
            "tags": []
          },
          "execution_count": 19
        }
      ]
    },
    {
      "cell_type": "code",
      "metadata": {
        "colab": {
          "base_uri": "https://localhost:8080/",
          "height": 458
        },
        "id": "m7jvGqwx29he",
        "outputId": "5ee4c98b-0dbb-4c43-f496-a21ff29df65d"
      },
      "source": [
        "plt.figure(figsize=(10,7))\n",
        "sns.lineplot(data = df_monthly_rainfall, x = 'Month', y= 'RainToday')\n",
        "plt.title(\"Rainfall in Season\")\n",
        "plt.show()"
      ],
      "id": "m7jvGqwx29he",
      "execution_count": 20,
      "outputs": [
        {
          "output_type": "display_data",
          "data": {
            "image/png": "[encoded data removed]",
            "text/plain": [
              "<Figure size 720x504 with 1 Axes>"
            ]
          },
          "metadata": {
            "tags": [],
            "needs_background": "light"
          }
        }
      ]
    },
    {
      "cell_type": "code",
      "metadata": {
        "colab": {
          "base_uri": "https://localhost:8080/",
          "height": 624
        },
        "id": "qbZVFlrt29he",
        "outputId": "3d639dd2-daa7-4a03-d2c5-542779c21405"
      },
      "source": [
        "corr = df_rainfall.corr()\n",
        "\n",
        "# Generate a mask for the upper triangle\n",
        "mask = np.triu(np.ones_like(corr, dtype=bool))\n",
        "\n",
        "# Set up the matplotlib figure\n",
        "f, ax = plt.subplots(figsize=(11, 9))\n",
        "\n",
        "# Generate a custom diverging colormap\n",
        "cmap = sns.diverging_palette(230, 20, as_cmap=True)\n",
        "\n",
        "# Draw the heatmap with the mask and correct aspect ratio\n",
        "sns.heatmap(corr, mask=mask, cmap=cmap, vmax=.3, center=0,\n",
        "            square=True, linewidths=.5, cbar_kws={\"shrink\": .5})"
      ],
      "id": "qbZVFlrt29he",
      "execution_count": 21,
      "outputs": [
        {
          "output_type": "execute_result",
          "data": {
            "text/plain": [
              "<matplotlib.axes._subplots.AxesSubplot at 0x7f6d3e1de110>"
            ]
          },
          "metadata": {
            "tags": []
          },
          "execution_count": 21
        },
        {
          "output_type": "display_data",
          "data": {
            "image/png": "[encoded data removed]",
            "text/plain": [
              "<Figure size 792x648 with 2 Axes>"
            ]
          },
          "metadata": {
            "tags": [],
            "needs_background": "light"
          }
        }
      ]
    },
    {
      "cell_type": "code",
      "metadata": {
        "colab": {
          "base_uri": "https://localhost:8080/"
        },
        "id": "YnhhVxFf29hf",
        "outputId": "39bce73f-80e9-4682-e94d-02232b1bebf9"
      },
      "source": [
        "df_imputed = df_rainfall.dropna(axis=0, subset=['RainTomorrow'])\n",
        "df_imputed.isna().sum()"
      ],
      "id": "YnhhVxFf29hf",
      "execution_count": 22,
      "outputs": [
        {
          "output_type": "execute_result",
          "data": {
            "text/plain": [
              "Date                 0\n",
              "Location             0\n",
              "MinTemp            637\n",
              "MaxTemp            322\n",
              "Rainfall          1406\n",
              "Evaporation      60843\n",
              "Sunshine         67816\n",
              "WindGustDir       9330\n",
              "WindGustSpeed     9270\n",
              "WindDir9am       10013\n",
              "WindDir3pm        3778\n",
              "WindSpeed9am      1348\n",
              "WindSpeed3pm      2630\n",
              "Humidity9am       1774\n",
              "Humidity3pm       3610\n",
              "Pressure9am      14014\n",
              "Pressure3pm      13981\n",
              "Cloud9am         53657\n",
              "Cloud3pm         57094\n",
              "Temp9am            904\n",
              "Temp3pm           2726\n",
              "RainToday         1406\n",
              "RainTomorrow         0\n",
              "Month                0\n",
              "dtype: int64"
            ]
          },
          "metadata": {
            "tags": []
          },
          "execution_count": 22
        }
      ]
    },
    {
      "cell_type": "code",
      "metadata": {
        "id": "BySAMrTa29hf"
      },
      "source": [
        "df_dt_loc = df_imputed[['Date', 'Location']]"
      ],
      "id": "BySAMrTa29hf",
      "execution_count": 23,
      "outputs": []
    },
    {
      "cell_type": "code",
      "metadata": {
        "colab": {
          "base_uri": "https://localhost:8080/"
        },
        "id": "fRYTGTBk29hg",
        "outputId": "4016fe88-52c8-420f-fb79-b2e72525490e"
      },
      "source": [
        "cont_feats = [col for col in df_imputed.columns if df_imputed[col].dtype != object]\n",
        "cont_feats.remove('RainTomorrow')\n",
        "cont_feats"
      ],
      "id": "fRYTGTBk29hg",
      "execution_count": 24,
      "outputs": [
        {
          "output_type": "execute_result",
          "data": {
            "text/plain": [
              "['MinTemp',\n",
              " 'MaxTemp',\n",
              " 'Rainfall',\n",
              " 'Evaporation',\n",
              " 'Sunshine',\n",
              " 'WindGustSpeed',\n",
              " 'WindSpeed9am',\n",
              " 'WindSpeed3pm',\n",
              " 'Humidity9am',\n",
              " 'Humidity3pm',\n",
              " 'Pressure9am',\n",
              " 'Pressure3pm',\n",
              " 'Cloud9am',\n",
              " 'Cloud3pm',\n",
              " 'Temp9am',\n",
              " 'Temp3pm',\n",
              " 'RainToday',\n",
              " 'Month']"
            ]
          },
          "metadata": {
            "tags": []
          },
          "execution_count": 24
        }
      ]
    },
    {
      "cell_type": "code",
      "metadata": {
        "id": "cC9sONR729hg"
      },
      "source": [
        "imputer = IterativeImputer(random_state=42)\n",
        "df_imputed_cont = imputer.fit_transform(df_imputed[cont_feats])\n",
        "df_imputed_cont = pd.DataFrame(df_imputed_cont, columns=cont_feats)\n",
        "df_imputed_cont.head()"
      ],
      "id": "cC9sONR729hg",
      "execution_count": null,
      "outputs": []
    },
    {
      "cell_type": "code",
      "metadata": {
        "id": "Su1nr72829hh"
      },
      "source": [
        "df_imputed_cont.isna().sum()"
      ],
      "id": "Su1nr72829hh",
      "execution_count": null,
      "outputs": []
    },
    {
      "cell_type": "code",
      "metadata": {
        "id": "x6lbrDiF29hh"
      },
      "source": [
        "cat_feat = [col for col in df_imputed.columns if col not in cont_feats]\n",
        "cat_feat.remove('Date')\n",
        "cat_feat.remove('Location')\n",
        "cat_feat.remove('RainTomorrow')\n",
        "cat_feat\n",
        "\n",
        "df_imputed_cat = df_imputed[cat_feat]\n"
      ],
      "id": "x6lbrDiF29hh",
      "execution_count": null,
      "outputs": []
    },
    {
      "cell_type": "code",
      "metadata": {
        "id": "nejl7SYQ29hh"
      },
      "source": [
        "def impute_nan_most_frequent_category(DataFrame,ColName):\n",
        "    \n",
        "    # .mode()[0] - gives first category name\n",
        "    most_frequent_category=DataFrame[ColName].mode()[0]        \n",
        "    \n",
        "    # replace nan values with most occured category\n",
        "    DataFrame[ColName].fillna(most_frequent_category,inplace=True)\n",
        "    "
      ],
      "id": "nejl7SYQ29hh",
      "execution_count": null,
      "outputs": []
    },
    {
      "cell_type": "code",
      "metadata": {
        "id": "zPDrOTIt29hh"
      },
      "source": [
        "for col in cat_feat:\n",
        "    impute_nan_most_frequent_category(df_imputed_cat, col)"
      ],
      "id": "zPDrOTIt29hh",
      "execution_count": null,
      "outputs": []
    },
    {
      "cell_type": "code",
      "metadata": {
        "id": "FB1mcXIm29hi"
      },
      "source": [
        "df_imputed_cat.isna().sum()"
      ],
      "id": "FB1mcXIm29hi",
      "execution_count": null,
      "outputs": []
    },
    {
      "cell_type": "code",
      "metadata": {
        "id": "bFGa57Tg29hi"
      },
      "source": [
        "df_target = df_imputed.RainTomorrow\n",
        "print(df_imputed_cont.shape)\n",
        "print(df_imputed_cat.shape)\n",
        "print(df_target.shape)"
      ],
      "id": "bFGa57Tg29hi",
      "execution_count": null,
      "outputs": []
    },
    {
      "cell_type": "code",
      "metadata": {
        "id": "Eu637Qp529hi"
      },
      "source": [
        "df_imputed_final = pd.concat(objs=[df_dt_loc.reset_index(drop=True),\n",
        "                                   df_imputed_cat.reset_index(drop=True),\n",
        "                                   df_imputed_cont.reset_index(drop=True), \n",
        "                                   df_target.reset_index(drop=True)], axis=1)\n",
        "df_imputed_final.shape"
      ],
      "id": "Eu637Qp529hi",
      "execution_count": null,
      "outputs": []
    },
    {
      "cell_type": "code",
      "metadata": {
        "id": "i4iCGZFI29hj"
      },
      "source": [
        "df_imputed_final.head()"
      ],
      "id": "i4iCGZFI29hj",
      "execution_count": null,
      "outputs": []
    },
    {
      "cell_type": "code",
      "metadata": {
        "id": "OyNLEZB829hj"
      },
      "source": [
        "df_imputed_final.isna().sum()"
      ],
      "id": "OyNLEZB829hj",
      "execution_count": null,
      "outputs": []
    },
    {
      "cell_type": "code",
      "metadata": {
        "id": "6b-Ah9Xf29hj"
      },
      "source": [
        "df_imputed_final.info()"
      ],
      "id": "6b-Ah9Xf29hj",
      "execution_count": null,
      "outputs": []
    },
    {
      "cell_type": "code",
      "metadata": {
        "id": "fVH_IZsa29hj"
      },
      "source": [
        "df_imputed_final_ = df_imputed_final.drop('Date', axis = 1)"
      ],
      "id": "fVH_IZsa29hj",
      "execution_count": null,
      "outputs": []
    },
    {
      "cell_type": "code",
      "metadata": {
        "id": "KSN9TRtI29hj"
      },
      "source": [
        "df_imputed_final_.head()"
      ],
      "id": "KSN9TRtI29hj",
      "execution_count": null,
      "outputs": []
    },
    {
      "cell_type": "code",
      "metadata": {
        "id": "myViyxogN4aV"
      },
      "source": [
        "df_imputed_final_.columns"
      ],
      "id": "myViyxogN4aV",
      "execution_count": null,
      "outputs": []
    },
    {
      "cell_type": "code",
      "metadata": {
        "id": "RuJHJNIu29hk"
      },
      "source": [
        "cat = ['Location', 'WindGustDir', 'WindDir9am', 'WindDir3pm']\n",
        "df_dummies = pd.get_dummies(df_imputed_final_, columns=cat)\n",
        "df_dummies.head()"
      ],
      "id": "RuJHJNIu29hk",
      "execution_count": null,
      "outputs": []
    },
    {
      "cell_type": "code",
      "metadata": {
        "id": "TnXOEtXK4c_x"
      },
      "source": [
        "print(df_dummies.columns.to_list())"
      ],
      "id": "TnXOEtXK4c_x",
      "execution_count": null,
      "outputs": []
    },
    {
      "cell_type": "code",
      "metadata": {
        "id": "8CFrkhf14dIV"
      },
      "source": [
        "df_final_rainfallpred = df_dummies\n",
        "X = df_final_rainfallpred.drop('RainTomorrow', axis = 1)\n",
        "y = df_final_rainfallpred['RainTomorrow']\n",
        "\n",
        "X_train, X_test, y_train, y_test = train_test_split(X, y, random_state = 42)\n",
        "print(\"Training size:\", X_train.shape[0])\n",
        "print(\"Testing size:\", X_test.shape[0])"
      ],
      "id": "8CFrkhf14dIV",
      "execution_count": null,
      "outputs": []
    },
    {
      "cell_type": "code",
      "metadata": {
        "id": "48mW8dU64dK2"
      },
      "source": [
        "X_train_resampled, y_train_resampled = SMOTE().fit_resample(X_train, y_train)"
      ],
      "id": "48mW8dU64dK2",
      "execution_count": null,
      "outputs": []
    },
    {
      "cell_type": "code",
      "metadata": {
        "id": "zrmL24FT4dPA"
      },
      "source": [
        "X_train_resampled, y_train_resampled = SMOTE().fit_resample(X_train, y_train)"
      ],
      "id": "zrmL24FT4dPA",
      "execution_count": null,
      "outputs": []
    },
    {
      "cell_type": "code",
      "metadata": {
        "id": "dNnWJmKP4dS8"
      },
      "source": [
        "space = {'max_depth': hp.quniform(\"max_depth\", 3, 18, 1),\n",
        "        'gamma': hp.uniform ('gamma', 1,9),\n",
        "        'reg_alpha' : hp.quniform('reg_alpha', 40,180,1),\n",
        "        'reg_lambda' : hp.uniform('reg_lambda', 0,1),\n",
        "        'colsample_bytree' : hp.uniform('colsample_bytree', 0.5,1),\n",
        "        'min_child_weight' : hp.quniform('min_child_weight', 0, 10, 1),\n",
        "        'n_estimators': 180,\n",
        "        'seed': 0\n",
        "    }"
      ],
      "id": "dNnWJmKP4dS8",
      "execution_count": null,
      "outputs": []
    },
    {
      "cell_type": "code",
      "metadata": {
        "id": "8hrDlWcW4dWh"
      },
      "source": [
        "def objective(space):\n",
        "    clf=xgb.XGBClassifier(\n",
        "                    n_estimators =space['n_estimators'], max_depth = int(space['max_depth']), gamma = space['gamma'],\n",
        "                    reg_alpha = int(space['reg_alpha']),min_child_weight=int(space['min_child_weight']),\n",
        "                    colsample_bytree=int(space['colsample_bytree']))\n",
        "    \n",
        "    evaluation = [( X_train, y_train), ( X_test, y_test)]\n",
        "    \n",
        "    clf.fit(X_train, y_train,\n",
        "            eval_set=evaluation, eval_metric=\"auc\",\n",
        "            early_stopping_rounds=10,verbose=False)\n",
        "    \n",
        "\n",
        "    pred = clf.predict(X_test)\n",
        "    accuracy = accuracy_score(y_test, pred>0.5)\n",
        "    print (\"SCORE:\", accuracy)\n",
        "    return {'loss': -accuracy, 'status': STATUS_OK }"
      ],
      "id": "8hrDlWcW4dWh",
      "execution_count": null,
      "outputs": []
    },
    {
      "cell_type": "code",
      "metadata": {
        "colab": {
          "base_uri": "https://localhost:8080/"
        },
        "id": "QocaZaWXA6e9",
        "outputId": "e6311b7c-a2d8-426f-b5b4-c892f46b1905"
      },
      "source": [
        "trials = Trials()\n",
        "\n",
        "best_hyperparams = fmin(fn = objective,\n",
        "                        space = space,\n",
        "                        algo = tpe.suggest,\n",
        "                        max_evals = 100,\n",
        "                        trials = trials)"
      ],
      "id": "QocaZaWXA6e9",
      "execution_count": 46,
      "outputs": [
        {
          "output_type": "stream",
          "text": [
            "SCORE:\n",
            "0.77704014177614\n",
            "SCORE:\n",
            "0.77704014177614\n",
            "SCORE:\n",
            "0.77704014177614\n",
            "SCORE:\n",
            "0.77704014177614\n",
            "SCORE:\n",
            "0.77704014177614\n",
            "SCORE:\n",
            "0.77704014177614\n",
            "SCORE:\n",
            "0.77704014177614\n",
            "SCORE:\n",
            "0.77704014177614\n",
            "SCORE:\n",
            "0.77704014177614\n",
            "SCORE:\n",
            "0.77704014177614\n",
            "SCORE:\n",
            "0.77704014177614\n",
            "SCORE:\n",
            "0.77704014177614\n",
            "SCORE:\n",
            "0.77704014177614\n",
            "SCORE:\n",
            "0.77704014177614\n",
            "SCORE:\n",
            "0.77704014177614\n",
            "SCORE:\n",
            "0.77704014177614\n",
            "SCORE:\n",
            "0.77704014177614\n",
            "SCORE:\n",
            "0.77704014177614\n",
            "SCORE:\n",
            "0.77704014177614\n",
            "SCORE:\n",
            "0.77704014177614\n",
            "SCORE:\n",
            "0.77704014177614\n",
            "SCORE:\n",
            "0.77704014177614\n",
            "SCORE:\n",
            "0.77704014177614\n",
            "SCORE:\n",
            "0.77704014177614\n",
            "SCORE:\n",
            "0.77704014177614\n",
            "SCORE:\n",
            "0.77704014177614\n",
            "SCORE:\n",
            "0.77704014177614\n",
            "SCORE:\n",
            "0.77704014177614\n",
            "SCORE:\n",
            "0.77704014177614\n",
            "SCORE:\n",
            "0.77704014177614\n",
            "SCORE:\n",
            "0.77704014177614\n",
            "SCORE:\n",
            "0.77704014177614\n",
            "SCORE:\n",
            "0.77704014177614\n",
            "SCORE:\n",
            "0.77704014177614\n",
            "SCORE:\n",
            "0.77704014177614\n",
            "SCORE:\n",
            "0.77704014177614\n",
            "SCORE:\n",
            "0.77704014177614\n",
            "SCORE:\n",
            "0.77704014177614\n",
            "SCORE:\n",
            "0.77704014177614\n",
            "SCORE:\n",
            "0.77704014177614\n",
            "SCORE:\n",
            "0.77704014177614\n",
            "SCORE:\n",
            "0.77704014177614\n",
            "SCORE:\n",
            "0.77704014177614\n",
            "SCORE:\n",
            "0.77704014177614\n",
            "SCORE:\n",
            "0.77704014177614\n",
            "SCORE:\n",
            "0.77704014177614\n",
            "SCORE:\n",
            "0.77704014177614\n",
            "SCORE:\n",
            "0.77704014177614\n",
            "SCORE:\n",
            "0.77704014177614\n",
            "SCORE:\n",
            "0.77704014177614\n",
            "SCORE:\n",
            "0.77704014177614\n",
            "SCORE:\n",
            "0.77704014177614\n",
            "SCORE:\n",
            "0.77704014177614\n",
            "SCORE:\n",
            "0.77704014177614\n",
            "SCORE:\n",
            "0.77704014177614\n",
            "SCORE:\n",
            "0.77704014177614\n",
            "SCORE:\n",
            "0.77704014177614\n",
            "SCORE:\n",
            "0.77704014177614\n",
            "SCORE:\n",
            "0.77704014177614\n",
            "SCORE:\n",
            "0.77704014177614\n",
            "SCORE:\n",
            "0.77704014177614\n",
            "SCORE:\n",
            "0.77704014177614\n",
            "SCORE:\n",
            "0.77704014177614\n",
            "SCORE:\n",
            "0.77704014177614\n",
            "SCORE:\n",
            "0.77704014177614\n",
            "SCORE:\n",
            "0.77704014177614\n",
            "SCORE:\n",
            "0.77704014177614\n",
            "SCORE:\n",
            "0.77704014177614\n",
            "SCORE:\n",
            "0.77704014177614\n",
            "SCORE:\n",
            "0.77704014177614\n",
            "SCORE:\n",
            "0.77704014177614\n",
            "SCORE:\n",
            "0.77704014177614\n",
            "SCORE:\n",
            "0.77704014177614\n",
            "SCORE:\n",
            "0.77704014177614\n",
            "SCORE:\n",
            "0.77704014177614\n",
            "SCORE:\n",
            "0.77704014177614\n",
            "SCORE:\n",
            "0.77704014177614\n",
            "SCORE:\n",
            "0.77704014177614\n",
            "SCORE:\n",
            "0.77704014177614\n",
            "SCORE:\n",
            "0.77704014177614\n",
            "SCORE:\n",
            "0.77704014177614\n",
            "SCORE:\n",
            "0.77704014177614\n",
            "SCORE:\n",
            "0.77704014177614\n",
            "SCORE:\n",
            "0.77704014177614\n",
            "SCORE:\n",
            "0.77704014177614\n",
            "SCORE:\n",
            "0.77704014177614\n",
            "SCORE:\n",
            "0.77704014177614\n",
            "SCORE:\n",
            "0.77704014177614\n",
            "SCORE:\n",
            "0.77704014177614\n",
            "SCORE:\n",
            "0.77704014177614\n",
            "SCORE:\n",
            "0.77704014177614\n",
            "SCORE:\n",
            "0.77704014177614\n",
            "SCORE:\n",
            "0.77704014177614\n",
            "SCORE:\n",
            "0.77704014177614\n",
            "SCORE:\n",
            "0.77704014177614\n",
            "SCORE:\n",
            "0.77704014177614\n",
            "SCORE:\n",
            "0.77704014177614\n",
            "SCORE:\n",
            "0.77704014177614\n",
            "SCORE:\n",
            "0.77704014177614\n",
            "SCORE:\n",
            "0.77704014177614\n",
            "100%|██████████| 100/100 [06:11<00:00,  3.72s/it, best loss: -0.77704014177614]\n"
          ],
          "name": "stdout"
        }
      ]
    },
    {
      "cell_type": "code",
      "metadata": {
        "colab": {
          "base_uri": "https://localhost:8080/"
        },
        "id": "7HUKYq-qElgt",
        "outputId": "2ddad57a-1054-468d-d698-3daa2faad075"
      },
      "source": [
        "print(best_hyperparams)"
      ],
      "id": "7HUKYq-qElgt",
      "execution_count": 47,
      "outputs": [
        {
          "output_type": "stream",
          "text": [
            "{'colsample_bytree': 0.8711292840684453, 'gamma': 2.7001752147474036, 'max_depth': 4.0, 'min_child_weight': 6.0, 'reg_alpha': 40.0, 'reg_lambda': 0.5857405975603123}\n"
          ],
          "name": "stdout"
        }
      ]
    },
    {
      "cell_type": "code",
      "metadata": {
        "colab": {
          "base_uri": "https://localhost:8080/"
        },
        "id": "bWJbpu3LElj_",
        "outputId": "cbe0704b-6fdb-4f4d-c6b9-1254ff792531"
      },
      "source": [
        "xgb_ = XGBClassifier(colsample_bytree = 0.6808521597928148, gamma = 8.702538114999903, max_depth = 17, \n",
        "                    min_child_weight = 5.0, reg_alpha = 158.0, reg_lambda = 0.6755553225499079,random_state=42)\n",
        "xgb_.fit(X_train, y_train)\n",
        "y_pred_xgb = xgb_.predict(X_test)\n",
        "y_pred_xgb"
      ],
      "id": "bWJbpu3LElj_",
      "execution_count": 48,
      "outputs": [
        {
          "output_type": "execute_result",
          "data": {
            "text/plain": [
              "array([1., 0., 0., ..., 0., 0., 1.])"
            ]
          },
          "metadata": {
            "tags": []
          },
          "execution_count": 48
        }
      ]
    },
    {
      "cell_type": "code",
      "metadata": {
        "id": "QB7yeO0WEloY"
      },
      "source": [
        "def conf_matrix(model, X_test, y_test, cmap='Blues'):\n",
        "    plot_confusion_matrix(model, X_test, y_test, cmap=cmap)\n",
        "    plt.grid()\n",
        "    plt.show()\n",
        "\n",
        "def roc_curve_custom(model, X_test, y_test):\n",
        "    plot_roc_curve(model, X_test, y_test)\n",
        "    plt.plot([0, 1], [0, 1], color='black', linestyle='--')\n",
        "    plt.show()\n",
        "    \n",
        "def evaluate(model, X_train=X_train, X_test=X_test, y_train=y_train, y_test=y_test, y_pred=y_pred_xgb):\n",
        "    # Confusion Matrix\n",
        "    print('Confusion Matrix')\n",
        "    print('-'*53)\n",
        "    conf_matrix(model, X_test, y_test)\n",
        "    print('\\n') \n",
        "    \n",
        "    # Classification Report\n",
        "    print('Classification Report') \n",
        "    print('-'*53)\n",
        "    print(classification_report(y_test, y_pred))\n",
        "    print('\\n')\n",
        "    \n",
        "    # ROC Curve\n",
        "    print('ROC Curve')\n",
        "    print('-'*53)\n",
        "    roc_curve_custom(model, X_test, y_test)\n",
        "    print('\\n')\n",
        "    \n",
        "    # Checking model fitness\n",
        "    print('Checking model fitness') \n",
        "    print('-'*53)\n",
        "    print('Train score:', round(model.score(X_train, y_train), 4))\n",
        "    print('Test score: ', round(model.score(X_test, y_test), 4))\n",
        "    print('\\n')"
      ],
      "id": "QB7yeO0WEloY",
      "execution_count": 86,
      "outputs": []
    },
    {
      "cell_type": "code",
      "metadata": {
        "id": "rnVjOyoMA6ih"
      },
      "source": [
        "evaluate(xgb_, y_pred=y_pred_xgb)"
      ],
      "id": "rnVjOyoMA6ih",
      "execution_count": null,
      "outputs": []
    },
    {
      "cell_type": "code",
      "metadata": {
        "id": "Cqq-jv0YEU9E"
      },
      "source": [
        "##Random Forest Classifier"
      ],
      "id": "Cqq-jv0YEU9E",
      "execution_count": 51,
      "outputs": []
    },
    {
      "cell_type": "code",
      "metadata": {
        "colab": {
          "base_uri": "https://localhost:8080/"
        },
        "id": "NdLpwbwKFTHQ",
        "outputId": "e6e87c29-0a7c-40b1-b1b8-78794f791434"
      },
      "source": [
        "rf = RandomForestClassifier(random_state=42)\n",
        "rf.fit(X_train, y_train)\n",
        "y_pred_rf = rf.predict(X_test)\n",
        "y_pred_rf"
      ],
      "id": "NdLpwbwKFTHQ",
      "execution_count": 52,
      "outputs": [
        {
          "output_type": "stream",
          "text": [
            "Fitting 5 folds for each of 10 candidates, totalling 50 fits\n",
            "[CV] n_estimators=900, min_samples_split=5, min_samples_leaf=5, max_features=sqrt, max_depth=10 \n"
          ],
          "name": "stdout"
        },
        {
          "output_type": "stream",
          "text": [
            "[Parallel(n_jobs=1)]: Using backend SequentialBackend with 1 concurrent workers.\n"
          ],
          "name": "stderr"
        },
        {
          "output_type": "stream",
          "text": [
            "[CV]  n_estimators=900, min_samples_split=5, min_samples_leaf=5, max_features=sqrt, max_depth=10, total= 1.2min\n",
            "[CV] n_estimators=900, min_samples_split=5, min_samples_leaf=5, max_features=sqrt, max_depth=10 \n"
          ],
          "name": "stdout"
        },
        {
          "output_type": "stream",
          "text": [
            "[Parallel(n_jobs=1)]: Done   1 out of   1 | elapsed:  1.2min remaining:    0.0s\n"
          ],
          "name": "stderr"
        },
        {
          "output_type": "stream",
          "text": [
            "[CV]  n_estimators=900, min_samples_split=5, min_samples_leaf=5, max_features=sqrt, max_depth=10, total= 1.2min\n",
            "[CV] n_estimators=900, min_samples_split=5, min_samples_leaf=5, max_features=sqrt, max_depth=10 \n",
            "[CV]  n_estimators=900, min_samples_split=5, min_samples_leaf=5, max_features=sqrt, max_depth=10, total= 1.2min\n",
            "[CV] n_estimators=900, min_samples_split=5, min_samples_leaf=5, max_features=sqrt, max_depth=10 \n",
            "[CV]  n_estimators=900, min_samples_split=5, min_samples_leaf=5, max_features=sqrt, max_depth=10, total= 1.2min\n",
            "[CV] n_estimators=900, min_samples_split=5, min_samples_leaf=5, max_features=sqrt, max_depth=10 \n",
            "[CV]  n_estimators=900, min_samples_split=5, min_samples_leaf=5, max_features=sqrt, max_depth=10, total= 1.2min\n",
            "[CV] n_estimators=1100, min_samples_split=10, min_samples_leaf=2, max_features=sqrt, max_depth=15 \n",
            "[CV]  n_estimators=1100, min_samples_split=10, min_samples_leaf=2, max_features=sqrt, max_depth=15, total= 2.2min\n",
            "[CV] n_estimators=1100, min_samples_split=10, min_samples_leaf=2, max_features=sqrt, max_depth=15 \n",
            "[CV]  n_estimators=1100, min_samples_split=10, min_samples_leaf=2, max_features=sqrt, max_depth=15, total= 2.3min\n",
            "[CV] n_estimators=1100, min_samples_split=10, min_samples_leaf=2, max_features=sqrt, max_depth=15 \n",
            "[CV]  n_estimators=1100, min_samples_split=10, min_samples_leaf=2, max_features=sqrt, max_depth=15, total= 2.3min\n",
            "[CV] n_estimators=1100, min_samples_split=10, min_samples_leaf=2, max_features=sqrt, max_depth=15 \n",
            "[CV]  n_estimators=1100, min_samples_split=10, min_samples_leaf=2, max_features=sqrt, max_depth=15, total= 2.3min\n",
            "[CV] n_estimators=1100, min_samples_split=10, min_samples_leaf=2, max_features=sqrt, max_depth=15 \n",
            "[CV]  n_estimators=1100, min_samples_split=10, min_samples_leaf=2, max_features=sqrt, max_depth=15, total= 2.2min\n",
            "[CV] n_estimators=300, min_samples_split=100, min_samples_leaf=5, max_features=auto, max_depth=15 \n",
            "[CV]  n_estimators=300, min_samples_split=100, min_samples_leaf=5, max_features=auto, max_depth=15, total= 5.3min\n",
            "[CV] n_estimators=300, min_samples_split=100, min_samples_leaf=5, max_features=auto, max_depth=15 \n",
            "[CV]  n_estimators=300, min_samples_split=100, min_samples_leaf=5, max_features=auto, max_depth=15, total= 5.2min\n",
            "[CV] n_estimators=300, min_samples_split=100, min_samples_leaf=5, max_features=auto, max_depth=15 \n",
            "[CV]  n_estimators=300, min_samples_split=100, min_samples_leaf=5, max_features=auto, max_depth=15, total= 5.2min\n",
            "[CV] n_estimators=300, min_samples_split=100, min_samples_leaf=5, max_features=auto, max_depth=15 \n",
            "[CV]  n_estimators=300, min_samples_split=100, min_samples_leaf=5, max_features=auto, max_depth=15, total= 5.0min\n",
            "[CV] n_estimators=300, min_samples_split=100, min_samples_leaf=5, max_features=auto, max_depth=15 \n",
            "[CV]  n_estimators=300, min_samples_split=100, min_samples_leaf=5, max_features=auto, max_depth=15, total= 5.0min\n",
            "[CV] n_estimators=400, min_samples_split=5, min_samples_leaf=5, max_features=auto, max_depth=15 \n",
            "[CV]  n_estimators=400, min_samples_split=5, min_samples_leaf=5, max_features=auto, max_depth=15, total= 7.1min\n",
            "[CV] n_estimators=400, min_samples_split=5, min_samples_leaf=5, max_features=auto, max_depth=15 \n",
            "[CV]  n_estimators=400, min_samples_split=5, min_samples_leaf=5, max_features=auto, max_depth=15, total= 7.1min\n",
            "[CV] n_estimators=400, min_samples_split=5, min_samples_leaf=5, max_features=auto, max_depth=15 \n",
            "[CV]  n_estimators=400, min_samples_split=5, min_samples_leaf=5, max_features=auto, max_depth=15, total= 7.2min\n",
            "[CV] n_estimators=400, min_samples_split=5, min_samples_leaf=5, max_features=auto, max_depth=15 \n",
            "[CV]  n_estimators=400, min_samples_split=5, min_samples_leaf=5, max_features=auto, max_depth=15, total= 7.1min\n",
            "[CV] n_estimators=400, min_samples_split=5, min_samples_leaf=5, max_features=auto, max_depth=15 \n",
            "[CV]  n_estimators=400, min_samples_split=5, min_samples_leaf=5, max_features=auto, max_depth=15, total= 7.1min\n",
            "[CV] n_estimators=700, min_samples_split=5, min_samples_leaf=10, max_features=auto, max_depth=20 \n",
            "[CV]  n_estimators=700, min_samples_split=5, min_samples_leaf=10, max_features=auto, max_depth=20, total=13.5min\n",
            "[CV] n_estimators=700, min_samples_split=5, min_samples_leaf=10, max_features=auto, max_depth=20 \n",
            "[CV]  n_estimators=700, min_samples_split=5, min_samples_leaf=10, max_features=auto, max_depth=20, total=14.2min\n",
            "[CV] n_estimators=700, min_samples_split=5, min_samples_leaf=10, max_features=auto, max_depth=20 \n",
            "[CV]  n_estimators=700, min_samples_split=5, min_samples_leaf=10, max_features=auto, max_depth=20, total=13.6min\n",
            "[CV] n_estimators=700, min_samples_split=5, min_samples_leaf=10, max_features=auto, max_depth=20 \n",
            "[CV]  n_estimators=700, min_samples_split=5, min_samples_leaf=10, max_features=auto, max_depth=20, total=13.5min\n",
            "[CV] n_estimators=700, min_samples_split=5, min_samples_leaf=10, max_features=auto, max_depth=20 \n",
            "[CV]  n_estimators=700, min_samples_split=5, min_samples_leaf=10, max_features=auto, max_depth=20, total=14.1min\n",
            "[CV] n_estimators=1000, min_samples_split=2, min_samples_leaf=1, max_features=sqrt, max_depth=25 \n",
            "[CV]  n_estimators=1000, min_samples_split=2, min_samples_leaf=1, max_features=sqrt, max_depth=25, total= 2.8min\n",
            "[CV] n_estimators=1000, min_samples_split=2, min_samples_leaf=1, max_features=sqrt, max_depth=25 \n",
            "[CV]  n_estimators=1000, min_samples_split=2, min_samples_leaf=1, max_features=sqrt, max_depth=25, total= 3.0min\n",
            "[CV] n_estimators=1000, min_samples_split=2, min_samples_leaf=1, max_features=sqrt, max_depth=25 \n",
            "[CV]  n_estimators=1000, min_samples_split=2, min_samples_leaf=1, max_features=sqrt, max_depth=25, total= 3.0min\n",
            "[CV] n_estimators=1000, min_samples_split=2, min_samples_leaf=1, max_features=sqrt, max_depth=25 \n",
            "[CV]  n_estimators=1000, min_samples_split=2, min_samples_leaf=1, max_features=sqrt, max_depth=25, total= 2.9min\n",
            "[CV] n_estimators=1000, min_samples_split=2, min_samples_leaf=1, max_features=sqrt, max_depth=25 \n",
            "[CV]  n_estimators=1000, min_samples_split=2, min_samples_leaf=1, max_features=sqrt, max_depth=25, total= 2.8min\n",
            "[CV] n_estimators=1100, min_samples_split=15, min_samples_leaf=10, max_features=sqrt, max_depth=5 \n",
            "[CV]  n_estimators=1100, min_samples_split=15, min_samples_leaf=10, max_features=sqrt, max_depth=5, total=  46.2s\n",
            "[CV] n_estimators=1100, min_samples_split=15, min_samples_leaf=10, max_features=sqrt, max_depth=5 \n",
            "[CV]  n_estimators=1100, min_samples_split=15, min_samples_leaf=10, max_features=sqrt, max_depth=5, total=  44.8s\n",
            "[CV] n_estimators=1100, min_samples_split=15, min_samples_leaf=10, max_features=sqrt, max_depth=5 \n",
            "[CV]  n_estimators=1100, min_samples_split=15, min_samples_leaf=10, max_features=sqrt, max_depth=5, total=  45.9s\n",
            "[CV] n_estimators=1100, min_samples_split=15, min_samples_leaf=10, max_features=sqrt, max_depth=5 \n",
            "[CV]  n_estimators=1100, min_samples_split=15, min_samples_leaf=10, max_features=sqrt, max_depth=5, total=  45.2s\n",
            "[CV] n_estimators=1100, min_samples_split=15, min_samples_leaf=10, max_features=sqrt, max_depth=5 \n",
            "[CV]  n_estimators=1100, min_samples_split=15, min_samples_leaf=10, max_features=sqrt, max_depth=5, total=  45.3s\n",
            "[CV] n_estimators=300, min_samples_split=15, min_samples_leaf=1, max_features=sqrt, max_depth=15 \n",
            "[CV]  n_estimators=300, min_samples_split=15, min_samples_leaf=1, max_features=sqrt, max_depth=15, total=  35.6s\n",
            "[CV] n_estimators=300, min_samples_split=15, min_samples_leaf=1, max_features=sqrt, max_depth=15 \n",
            "[CV]  n_estimators=300, min_samples_split=15, min_samples_leaf=1, max_features=sqrt, max_depth=15, total=  35.7s\n",
            "[CV] n_estimators=300, min_samples_split=15, min_samples_leaf=1, max_features=sqrt, max_depth=15 \n",
            "[CV]  n_estimators=300, min_samples_split=15, min_samples_leaf=1, max_features=sqrt, max_depth=15, total=  35.9s\n",
            "[CV] n_estimators=300, min_samples_split=15, min_samples_leaf=1, max_features=sqrt, max_depth=15 \n",
            "[CV]  n_estimators=300, min_samples_split=15, min_samples_leaf=1, max_features=sqrt, max_depth=15, total=  35.5s\n",
            "[CV] n_estimators=300, min_samples_split=15, min_samples_leaf=1, max_features=sqrt, max_depth=15 \n",
            "[CV]  n_estimators=300, min_samples_split=15, min_samples_leaf=1, max_features=sqrt, max_depth=15, total=  36.0s\n",
            "[CV] n_estimators=700, min_samples_split=10, min_samples_leaf=2, max_features=sqrt, max_depth=5 \n",
            "[CV]  n_estimators=700, min_samples_split=10, min_samples_leaf=2, max_features=sqrt, max_depth=5, total=  28.8s\n",
            "[CV] n_estimators=700, min_samples_split=10, min_samples_leaf=2, max_features=sqrt, max_depth=5 \n",
            "[CV]  n_estimators=700, min_samples_split=10, min_samples_leaf=2, max_features=sqrt, max_depth=5, total=  28.5s\n",
            "[CV] n_estimators=700, min_samples_split=10, min_samples_leaf=2, max_features=sqrt, max_depth=5 \n",
            "[CV]  n_estimators=700, min_samples_split=10, min_samples_leaf=2, max_features=sqrt, max_depth=5, total=  28.6s\n",
            "[CV] n_estimators=700, min_samples_split=10, min_samples_leaf=2, max_features=sqrt, max_depth=5 \n",
            "[CV]  n_estimators=700, min_samples_split=10, min_samples_leaf=2, max_features=sqrt, max_depth=5, total=  28.9s\n",
            "[CV] n_estimators=700, min_samples_split=10, min_samples_leaf=2, max_features=sqrt, max_depth=5 \n",
            "[CV]  n_estimators=700, min_samples_split=10, min_samples_leaf=2, max_features=sqrt, max_depth=5, total=  28.6s\n",
            "[CV] n_estimators=700, min_samples_split=15, min_samples_leaf=1, max_features=auto, max_depth=20 \n",
            "[CV]  n_estimators=700, min_samples_split=15, min_samples_leaf=1, max_features=auto, max_depth=20, total=15.2min\n",
            "[CV] n_estimators=700, min_samples_split=15, min_samples_leaf=1, max_features=auto, max_depth=20 \n",
            "[CV]  n_estimators=700, min_samples_split=15, min_samples_leaf=1, max_features=auto, max_depth=20, total=15.8min\n",
            "[CV] n_estimators=700, min_samples_split=15, min_samples_leaf=1, max_features=auto, max_depth=20 \n",
            "[CV]  n_estimators=700, min_samples_split=15, min_samples_leaf=1, max_features=auto, max_depth=20, total=15.3min\n",
            "[CV] n_estimators=700, min_samples_split=15, min_samples_leaf=1, max_features=auto, max_depth=20 \n",
            "[CV]  n_estimators=700, min_samples_split=15, min_samples_leaf=1, max_features=auto, max_depth=20, total=16.0min\n",
            "[CV] n_estimators=700, min_samples_split=15, min_samples_leaf=1, max_features=auto, max_depth=20 \n",
            "[CV]  n_estimators=700, min_samples_split=15, min_samples_leaf=1, max_features=auto, max_depth=20, total=15.5min\n"
          ],
          "name": "stdout"
        },
        {
          "output_type": "stream",
          "text": [
            "[Parallel(n_jobs=1)]: Done  50 out of  50 | elapsed: 248.8min finished\n"
          ],
          "name": "stderr"
        },
        {
          "output_type": "execute_result",
          "data": {
            "text/plain": [
              "RandomizedSearchCV(cv=5, error_score=nan,\n",
              "                   estimator=RandomForestRegressor(bootstrap=True,\n",
              "                                                   ccp_alpha=0.0,\n",
              "                                                   criterion='mse',\n",
              "                                                   max_depth=None,\n",
              "                                                   max_features='auto',\n",
              "                                                   max_leaf_nodes=None,\n",
              "                                                   max_samples=None,\n",
              "                                                   min_impurity_decrease=0.0,\n",
              "                                                   min_impurity_split=None,\n",
              "                                                   min_samples_leaf=1,\n",
              "                                                   min_samples_split=2,\n",
              "                                                   min_weight_fraction_leaf=0.0,\n",
              "                                                   n_estimators=100,\n",
              "                                                   n_jobs=None, oob_score=Fals...\n",
              "                   iid='deprecated', n_iter=10, n_jobs=1,\n",
              "                   param_distributions={'max_depth': [5, 10, 15, 20, 25, 30],\n",
              "                                        'max_features': ['auto', 'sqrt'],\n",
              "                                        'min_samples_leaf': [1, 2, 5, 10],\n",
              "                                        'min_samples_split': [2, 5, 10, 15,\n",
              "                                                              100],\n",
              "                                        'n_estimators': [100, 200, 300, 400,\n",
              "                                                         500, 600, 700, 800,\n",
              "                                                         900, 1000, 1100,\n",
              "                                                         1200]},\n",
              "                   pre_dispatch='2*n_jobs', random_state=42, refit=True,\n",
              "                   return_train_score=False, scoring='neg_mean_squared_error',\n",
              "                   verbose=2)"
            ]
          },
          "metadata": {
            "tags": []
          },
          "execution_count": 52
        }
      ]
    },
    {
      "cell_type": "code",
      "metadata": {
        "id": "j4_0-iaCSyYt"
      },
      "source": [
        "evaluate(rf, y_pred=y_pred_rf)"
      ],
      "id": "j4_0-iaCSyYt",
      "execution_count": null,
      "outputs": []
    },
    {
      "cell_type": "code",
      "metadata": {
        "id": "hc_z5yamS8Ra"
      },
      "source": [
        "rf_params = {\n",
        "    'n_estimators': [10, 35, 100],\n",
        "    'criterion': ['gini', 'entropy'],\n",
        "    'max_depth': [3, 7, 11],\n",
        "    'min_samples_split': [2, 5, 10],\n",
        "    'min_samples_leaf': [1, 3, 5],\n",
        "    'random_state': [42]\n",
        "}\n",
        "\n",
        "rf_gs = GridSearchCV(rf, param_grid=rf_params, scoring='accuracy', n_jobs=-1, cv=3)\n",
        "rf_gs.fit(X_train, y_train)"
      ],
      "id": "hc_z5yamS8Ra",
      "execution_count": null,
      "outputs": []
    },
    {
      "cell_type": "code",
      "metadata": {
        "id": "TNIDuE-hS91s"
      },
      "source": [
        "rf_gs.best_params_"
      ],
      "id": "TNIDuE-hS91s",
      "execution_count": null,
      "outputs": []
    },
    {
      "cell_type": "code",
      "metadata": {
        "id": "uxY2dHJ3TGoR"
      },
      "source": [
        "y_pred_rf_gs = rf_gs.predict(X_test)\n",
        "y_pred_rf_gs"
      ],
      "id": "uxY2dHJ3TGoR",
      "execution_count": null,
      "outputs": []
    },
    {
      "cell_type": "code",
      "metadata": {
        "id": "O9c18RsHTHln"
      },
      "source": [
        "evaluate(rf_gs, y_pred=y_pred_rf_gs)"
      ],
      "id": "O9c18RsHTHln",
      "execution_count": null,
      "outputs": []
    },
    {
      "cell_type": "code",
      "metadata": {
        "colab": {
          "base_uri": "https://localhost:8080/"
        },
        "id": "ccULXqSjJaJm",
        "outputId": "6f745059-f57b-44f5-c636-ac1ef9669cbb"
      },
      "source": [
        "joblib.dump(rf_gs, 'rf.joblib')"
      ],
      "id": "ccULXqSjJaJm",
      "execution_count": 64,
      "outputs": [
        {
          "output_type": "execute_result",
          "data": {
            "text/plain": [
              "['rf.joblib']"
            ]
          },
          "metadata": {
            "tags": []
          },
          "execution_count": 64
        }
      ]
    },
    {
      "cell_type": "code",
      "metadata": {
        "id": "Z2_vPsSkA6mx"
      },
      "source": [
        "import pickle\n",
        "file = open('rainforest_classifier.pkl', 'wb')\n",
        "pickle.dump(rf_gs, file)\n",
        "file.close() "
      ],
      "id": "Z2_vPsSkA6mx",
      "execution_count": 60,
      "outputs": []
    },
    {
      "cell_type": "code",
      "metadata": {
        "id": "yobXYfi97GSQ"
      },
      "source": [
        "from google.colab import files\n",
        "files.download('/content/sample_data/rainforest_classifier.pkl')"
      ],
      "id": "yobXYfi97GSQ",
      "execution_count": null,
      "outputs": []
    }
  ]
}